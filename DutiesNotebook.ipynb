{
 "metadata": {
  "language_info": {
   "codemirror_mode": {
    "name": "ipython",
    "version": 3
   },
   "file_extension": ".py",
   "mimetype": "text/x-python",
   "name": "python",
   "nbconvert_exporter": "python",
   "pygments_lexer": "ipython3",
   "version": "3.7.7-final"
  },
  "orig_nbformat": 2,
  "kernelspec": {
   "name": "python3",
   "display_name": "Python 3"
  }
 },
 "nbformat": 4,
 "nbformat_minor": 2,
 "cells": [
  {
   "cell_type": "code",
   "execution_count": 36,
   "metadata": {
    "tags": []
   },
   "outputs": [],
   "source": [
    "import randomduties\n",
    "import pandas as pd"
   ]
  },
  {
   "cell_type": "code",
   "execution_count": 37,
   "metadata": {},
   "outputs": [],
   "source": [
    "duties = randomduties.DutiesForWeek(how_many=3).make_rnd_duties()\n",
    "prez = pd.DataFrame(x)"
   ]
  },
  {
   "cell_type": "code",
   "execution_count": 38,
   "metadata": {},
   "outputs": [
    {
     "output_type": "execute_result",
     "data": {
      "text/plain": "    Mon   Tue   Wed   Thu   Fri\n0  A.Z.  V.E.  B.Y.  Y.B.  H.S.\n1  J.Q.  G.T.  I.R.  P.K.  N.M.\n2  M.N.  E.V.  D.W.  L.O.  U.F.",
      "text/html": "<div>\n<style scoped>\n    .dataframe tbody tr th:only-of-type {\n        vertical-align: middle;\n    }\n\n    .dataframe tbody tr th {\n        vertical-align: top;\n    }\n\n    .dataframe thead th {\n        text-align: right;\n    }\n</style>\n<table border=\"1\" class=\"dataframe\">\n  <thead>\n    <tr style=\"text-align: right;\">\n      <th></th>\n      <th>Mon</th>\n      <th>Tue</th>\n      <th>Wed</th>\n      <th>Thu</th>\n      <th>Fri</th>\n    </tr>\n  </thead>\n  <tbody>\n    <tr>\n      <th>0</th>\n      <td>A.Z.</td>\n      <td>V.E.</td>\n      <td>B.Y.</td>\n      <td>Y.B.</td>\n      <td>H.S.</td>\n    </tr>\n    <tr>\n      <th>1</th>\n      <td>J.Q.</td>\n      <td>G.T.</td>\n      <td>I.R.</td>\n      <td>P.K.</td>\n      <td>N.M.</td>\n    </tr>\n    <tr>\n      <th>2</th>\n      <td>M.N.</td>\n      <td>E.V.</td>\n      <td>D.W.</td>\n      <td>L.O.</td>\n      <td>U.F.</td>\n    </tr>\n  </tbody>\n</table>\n</div>"
     },
     "metadata": {},
     "execution_count": 38
    }
   ],
   "source": [
    "prez.loc[:, [\"Mon\", \"Tue\", \"Wed\", \"Thu\", \"Fri\"]]"
   ]
  }
 ]
}